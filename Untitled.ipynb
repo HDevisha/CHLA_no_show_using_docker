{
 "cells": [
  {
   "cell_type": "code",
   "execution_count": 3,
   "id": "7c631be2",
   "metadata": {},
   "outputs": [
    {
     "data": {
      "text/plain": [
       "[\"from sklearn.svm import SVC\\n\\n# Initialize Support Vector Classifier with probability=True\\nsvm = SVC(probability=True, random_state=42)\\n\\n# Train the model\\nsvm.fit(X_train, y_train)\\n\\n# Predict on the test set\\nsvm_predictions = svm.predict(X_test)\\n\\n# Calculate accuracy. For ROC-AUC, SVM requires probability estimates which are computationally expensive\\nsvm_accuracy = accuracy_score(y_test, svm_predictions)\\nsvm_roc_auc = roc_auc_score(y_test, svm.predict_proba(X_test)[:, 1])\\n\\nprint(f'SVM Accuracy: {svm_accuracy}')\\nprint(f'SVM ROC-AUC: {svm_roc_auc}')\",\n",
       " \"# Note: Calculating cross-validated ROC-AUC for SVM may be very time-consuming due to the need for probability estimation\\n\\n# Cross-validation for accuracy\\nsvm_accuracy_scores = cross_val_score(svm, X, y_encoded, cv=kf, scoring='accuracy')\\n\\n# Due to the computational cost, you might decide to skip ROC-AUC calculation for SVM in a cross-validation context\\n# Alternatively, you can calculate it similarly to the other models if computational resources allow\\n\\n# Print the results\\nprint(f'SVM Accuracy scores for each fold: {svm_accuracy_scores}')\\nprint(f'SVM Mean Accuracy: {np.mean(svm_accuracy_scores)}')\",\n",
       " \"import pandas as pd\\nimport numpy as np\\n\\ndef predict_noshow(total_cancellations, total_rescheduled, total_not_checkout, total_success, total_noshow):\\n    # Create a DataFrame for the input features with the same feature names as during model training\\n    input_df = pd.DataFrame({\\n        'TOTAL_NUMBER_OF_CANCELLATIONS': [total_cancellations],\\n        'TOTAL_NUMBER_OF_RESCHEDULED': [total_rescheduled],\\n        'TOTAL_NUMBER_OF_NOT_CHECKOUT_APPOINTMENT': [total_not_checkout],\\n        'TOTAL_NUMBER_OF_SUCCESS_APPOINTMENT': [total_success],\\n        'TOTAL_NUMBER_OF_NOSHOW': [total_noshow]\\n    })\\n    \\n    # Predict the outcome using the DataFrame\\n    prediction = gbm.predict(input_df)\\n    \\n    # Predict the probability of the outcome\\n    probability = gbm.predict_proba(input_df)[0, 1]  # Probability of 'Yes'\\n    \\n    # Convert the numerical prediction to 'Yes' or 'No'\\n    prediction_text = 'Yes' if prediction[0] == 1 else 'No'\\n    \\n    return prediction_text, probability\\n\\n# Example usage\\ntotal_cancellations = 2\\ntotal_rescheduled = 1\\ntotal_not_checkout = 0\\ntotal_success = 5\\ntotal_noshow = 3\\n\\nprediction, probability = predict_noshow(total_cancellations, total_rescheduled, total_not_checkout, total_success, total_noshow)\\nprint(f'Prediction: {prediction}, Probability: {probability:.2f}')\",\n",
       " \"def predict_noshow_from_user_input():\\n    # Prompt the user for input\\n    total_cancellations = int(input('Enter total number of cancellations: '))\\n    total_rescheduled = int(input('Enter total number of rescheduled appointments: '))\\n    total_not_checkout = int(input('Enter total number of not checkout appointments: '))\\n    total_success = int(input('Enter total number of successful appointments: '))\\n    total_noshow = int(input('Enter total number of no-show appointments: '))\\n    \\n    # Create a DataFrame for the input features with the correct feature names\\n    input_df = pd.DataFrame({\\n        'TOTAL_NUMBER_OF_CANCELLATIONS': [total_cancellations],\\n        'TOTAL_NUMBER_OF_RESCHEDULED': [total_rescheduled],\\n        'TOTAL_NUMBER_OF_NOT_CHECKOUT_APPOINTMENT': [total_not_checkout],\\n        'TOTAL_NUMBER_OF_SUCCESS_APPOINTMENT': [total_success],\\n        'TOTAL_NUMBER_OF_NOSHOW': [total_noshow]\\n    })\\n    \\n    # Predict the outcome using the DataFrame\\n    prediction = gbm.predict(input_df)\\n    \\n    # Predict the probability of the outcome\\n    probability = gbm.predict_proba(input_df)[0, 1]  # Probability of 'Yes'\\n    \\n    # Convert the numerical prediction to 'Yes' or 'No'\\n    prediction_text = 'Yes' if prediction[0] == 1 else 'No'\\n    \\n    # Output the prediction and probability\\n    print(f'\\\\nPrediction: {prediction_text}, Probability of Yes: {probability:.2f}')\\n\\n# Example usage - this will trigger the user input prompts when called\\npredict_noshow_from_user_input()\",\n",
       " \"import nbformat\\n\\n# Load the Jupyter notebook\\nnotebook_path = C:\\\\Users\\\\herat\\\\Desktop\\\\Subjects\\\\Spring Semester\\\\BSAN 6198-1\\\\Project 2\\nwith open(notebook_path, 'r', encoding='utf-8') as nb_file:\\n    nb_contents = nbformat.read(nb_file, as_version=4)\\n\\n# Extract code cells\\ncode_cells = [cell['source'] for cell in nb_contents['cells'] if cell['cell_type'] == 'code']\\n\\n# Display the last few cells to find the model\\ncode_cells[-5:]\\n\"]"
      ]
     },
     "execution_count": 3,
     "metadata": {},
     "output_type": "execute_result"
    }
   ],
   "source": [
    "import nbformat\n",
    "\n",
    "# Load the Jupyter notebook\n",
    "notebook_path = 'C:\\\\Users\\\\herat\\\\Desktop\\\\Subjects\\\\Spring Semester\\\\BSAN 6198-1\\\\Project 2\\\\Project_2.ipynb'\n",
    "with open(notebook_path, 'r', encoding='utf-8') as nb_file:\n",
    "    nb_contents = nbformat.read(nb_file, as_version=4)\n",
    "\n",
    "# Extract code cells\n",
    "code_cells = [cell['source'] for cell in nb_contents['cells'] if cell['cell_type'] == 'code']\n",
    "\n",
    "# Display the last few cells to find the model\n",
    "code_cells[-5:]"
   ]
  }
 ],
 "metadata": {
  "kernelspec": {
   "display_name": "Python 3 (ipykernel)",
   "language": "python",
   "name": "python3"
  },
  "language_info": {
   "codemirror_mode": {
    "name": "ipython",
    "version": 3
   },
   "file_extension": ".py",
   "mimetype": "text/x-python",
   "name": "python",
   "nbconvert_exporter": "python",
   "pygments_lexer": "ipython3",
   "version": "3.11.5"
  }
 },
 "nbformat": 4,
 "nbformat_minor": 5
}
